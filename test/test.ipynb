{
 "cells": [
  {
   "cell_type": "code",
   "execution_count": 6,
   "metadata": {},
   "outputs": [
    {
     "name": "stdout",
     "output_type": "stream",
     "text": [
      "Collecting protobuf\n",
      "  Downloading protobuf-5.28.3-cp310-abi3-win_amd64.whl.metadata (592 bytes)\n",
      "Downloading protobuf-5.28.3-cp310-abi3-win_amd64.whl (431 kB)\n",
      "Installing collected packages: protobuf\n",
      "Successfully installed protobuf-5.28.3\n"
     ]
    }
   ],
   "source": [
    "!pip install protobuf"
   ]
  },
  {
   "cell_type": "code",
   "execution_count": 47,
   "metadata": {},
   "outputs": [
    {
     "name": "stdout",
     "output_type": "stream",
     "text": [
      "Goods exchange.\n",
      "상품 교환과 교환은 7일 내에 받아들여집니다.\n"
     ]
    }
   ],
   "source": [
    "from transformers import AutoModelForQuestionAnswering, AutoTokenizer, pipeline\n",
    "from transformers import MBartForConditionalGeneration, MBart50TokenizerFast\n",
    "\n",
    "# 1. 번역 모델과 토크나이저 불러오기\n",
    "model_name_translation = \"facebook/mbart-large-50-many-to-many-mmt\"\n",
    "translation_model = MBartForConditionalGeneration.from_pretrained(model_name_translation)\n",
    "translation_tokenizer = MBart50TokenizerFast.from_pretrained(model_name_translation)\n",
    "\n",
    "def korean_to_english(input_text):\n",
    "\n",
    "    translation_tokenizer.src_lang = \"ko_KR\"\n",
    "    \n",
    "    encoded_ko = translation_tokenizer(input_text, return_tensors=\"pt\")\n",
    "\n",
    "    generated_tokens = translation_model.generate(\n",
    "        **encoded_ko,\n",
    "        forced_bos_token_id=translation_tokenizer.lang_code_to_id[\"en_XX\"]\n",
    "    )\n",
    "    ouput_text = translation_tokenizer.batch_decode(generated_tokens, skip_special_tokens=True)\n",
    "    \n",
    "    return ouput_text\n",
    "\n",
    "def english_to_korean(input_text):\n",
    "\n",
    "    translation_tokenizer.src_lang = \"en_XX\"\n",
    "    \n",
    "    encoded_en = translation_tokenizer(input_text, return_tensors=\"pt\")\n",
    "\n",
    "    generated_tokens = translation_model.generate(\n",
    "        **encoded_en,\n",
    "        forced_bos_token_id=translation_tokenizer.lang_code_to_id[\"ko_KR\"]\n",
    "    )\n",
    "    output_text = translation_tokenizer.batch_decode(generated_tokens, skip_special_tokens=True)\n",
    "    \n",
    "    translated_texts = output_text \n",
    "    \n",
    "    # 후처리: 잘못된 번역 패턴 수정\n",
    "    translated_texts = [postprocess_translation(text) for text in output_text]\n",
    "    \n",
    "    return translated_texts\n",
    "\n",
    "def postprocess_translation(text):\n",
    "    # 번역된 텍스트에서 자주 발생하는 잘못된 번역 패턴을 자동으로 수정하는 함수\n",
    "    # 일본어에서 잘못 번역된 패턴 -> 한국어로 교정\n",
    "    corrections = {\n",
    "        \"KRW\": \"원\",  # KRW를 '원'으로 변경\n",
    "        \"営業\": \"영업\",  # 일본어 '영업'을 한국어 '영업'으로 변경\n",
    "        \"Product Inquiry\": \"제품 문의\",  # Product Inquiry를 한국어로 변경\n",
    "        \"Refund Inquiry\": \"환불 문의\",  # Refund Inquiry를 한국어로 변경\n",
    "        \"Shipping Inquiry\": \"배송 문의\",  # Shipping Inquiry를 한국어로 변경\n",
    "        \"Order/Payment Inquiry\": \"주문/결제 문의\",  # Order/Payment Inquiry를 한국어로 변경\n",
    "        \"refundable\": \"환불\",\n",
    "        \"refunded\": \"환불\"\n",
    "    }\n",
    "    \n",
    "    # 잘못된 단어들을 교정\n",
    "    for wrong, correct in corrections.items():\n",
    "        text = text.replace(wrong, correct)\n",
    "    \n",
    "    return text\n",
    "\n",
    "model_name = \"deepset/roberta-base-squad2\"\n",
    "model = AutoModelForQuestionAnswering.from_pretrained(model_name)\n",
    "tokenizer = AutoTokenizer.from_pretrained(model_name)\n",
    "\n",
    "question = \"상품 교환\"\n",
    "\n",
    "# 한글 질문을 영어로 번역\n",
    "translated_question = korean_to_english(question)[0]\n",
    "print(translated_question)\n",
    "\n",
    "context = \"Order/Payment Inquiry: For order/payment-related inquiries regarding overseas purchase agency products, please contact our customer service center at 1234-5678.Shipping Inquiry: Your order will be shipped within 2-3 business days of payment, and it will take approximately 3-5 business days to arrive. However, shipping may be delayed during weekends and holidays. You can track your order on our website.Product Exchange/Return Inquiry: Product exchanges and returns are accepted within 7 days of receipt. However, if the product is damaged or has been used, it cannot be exchanged or returned. You can request an exchange or return by visiting our website, and you will be charged for round-trip international shipping costs (30,000 KRW).Refund Inquiry: Refunds are accepted within 7 days of receipt. However, if the product is damaged or has been used, it cannot be refunded. You can request a refund by visiting our website, and you will be refunded the amount paid minus international shipping costs (30,000 KRW).Product Inquiry: For product-related inquiries, please visit our website. You can find detailed information about the product, including size, color, and material, on the product page. If you have any additional questions, please contact our customer service center at 1234-5678.Other Inquiry: If you have any other questions, please contact our customer service center at 1234-5678.\"\n",
    "\n",
    "# a) 예측 얻기\n",
    "nlp = pipeline('question-answering', model=model_name, tokenizer=model_name)\n",
    "\n",
    "QA_input = {\n",
    "    'question': translated_question,\n",
    "    'context': context\n",
    "}\n",
    "\n",
    "# b) 예측을 담는 변수\n",
    "res = nlp(QA_input)\n",
    "\n",
    "en_answer = res['answer']\n",
    "\n",
    "answer = english_to_korean(en_answer)\n",
    "\n",
    "for line in answer:\n",
    "    print(line)"
   ]
  },
  {
   "cell_type": "code",
   "execution_count": 29,
   "metadata": {},
   "outputs": [
    {
     "name": "stdout",
     "output_type": "stream",
     "text": [
      "{'question': 'Give me the phone number of your office.', 'context': 'Order/Payment Inquiry: For order/payment-related inquiries regarding overseas purchase agency products, please contact our customer service center at 1234-5678.Shipping Inquiry: Your order will be shipped within 2-3 business days of payment, and it will take approximately 3-5 business days to arrive. However, shipping may be delayed during weekends and holidays. You can track your order on our website.Product Exchange/Return Inquiry: Product exchanges and returns are accepted within 7 days of receipt. However, if the product is damaged or has been used, it cannot be exchanged or returned. You can request an exchange or return by visiting our website, and you will be charged for round-trip international shipping costs (30,000 KRW).Refund Inquiry: Refunds are accepted within 7 days of receipt. However, if the product is damaged or has been used, it cannot be refunded. You can request a refund by visiting our website, and you will be refunded the amount paid minus international shipping costs (30,000 KRW).Product Inquiry: For product-related inquiries, please visit our website. You can find detailed information about the product, including size, color, and material, on the product page. If you have any additional questions, please contact our customer service center at 1234-5678.Other Inquiry: If you have any other questions, please contact our customer service center at 1234-5678.'}\n"
     ]
    },
    {
     "data": {
      "text/plain": [
       "{'score': 6.991105294673616e-08,\n",
       " 'start': 150,\n",
       " 'end': 159,\n",
       " 'answer': '1234-5678'}"
      ]
     },
     "execution_count": 29,
     "metadata": {},
     "output_type": "execute_result"
    }
   ],
   "source": [
    "from transformers import AutoModelForQuestionAnswering, AutoTokenizer, pipeline\n",
    "\n",
    "model_name = \"deepset/roberta-base-squad2\"\n",
    "\n",
    "# a) Get predictions\n",
    "nlp = pipeline('question-answering', model=model_name, tokenizer=model_name)\n",
    "QA_input = {\n",
    "    'question': 'Give me the phone number of your office.',\n",
    "    'context' : \"Order/Payment Inquiry: For order/payment-related inquiries regarding overseas purchase agency products, please contact our customer service center at 1234-5678.Shipping Inquiry: Your order will be shipped within 2-3 business days of payment, and it will take approximately 3-5 business days to arrive. However, shipping may be delayed during weekends and holidays. You can track your order on our website.Product Exchange/Return Inquiry: Product exchanges and returns are accepted within 7 days of receipt. However, if the product is damaged or has been used, it cannot be exchanged or returned. You can request an exchange or return by visiting our website, and you will be charged for round-trip international shipping costs (30,000 KRW).Refund Inquiry: Refunds are accepted within 7 days of receipt. However, if the product is damaged or has been used, it cannot be refunded. You can request a refund by visiting our website, and you will be refunded the amount paid minus international shipping costs (30,000 KRW).Product Inquiry: For product-related inquiries, please visit our website. You can find detailed information about the product, including size, color, and material, on the product page. If you have any additional questions, please contact our customer service center at 1234-5678.Other Inquiry: If you have any other questions, please contact our customer service center at 1234-5678.\"\n",
    "    }\n",
    "print(QA_input)\n",
    "\n",
    "res = nlp(QA_input)\n",
    "\n",
    "# b) Load model & tokenizer\n",
    "model = AutoModelForQuestionAnswering.from_pretrained(model_name)\n",
    "tokenizer = AutoTokenizer.from_pretrained(model_name)\n",
    "\n",
    "\n",
    "res"
   ]
  },
  {
   "cell_type": "code",
   "execution_count": 19,
   "metadata": {},
   "outputs": [
    {
     "data": {
      "application/vnd.jupyter.widget-view+json": {
       "model_id": "aba648d39114494b84651676ff51ab6c",
       "version_major": 2,
       "version_minor": 0
      },
      "text/plain": [
       "VBox(children=(HTML(value='<center> <img\\nsrc=https://huggingface.co/front/assets/huggingface_logo-noborder.sv…"
      ]
     },
     "metadata": {},
     "output_type": "display_data"
    }
   ],
   "source": [
    "from huggingface_hub import notebook_login\n",
    "notebook_login()"
   ]
  },
  {
   "cell_type": "code",
   "execution_count": null,
   "metadata": {},
   "outputs": [],
   "source": [
    "\n",
    "def korean_to_english(input_text):\n",
    "\n",
    "    tokenizer.src_lang = \"ko_KR\"\n",
    "    \n",
    "    encoded_ko = tokenizer(input_text, return_tensors=\"pt\")\n",
    "\n",
    "    generated_tokens = model.generate(\n",
    "        **encoded_ko,\n",
    "        forced_bos_token_id=tokenizer.lang_code_to_id[\"en_XX\"]\n",
    "    )\n",
    "    ouput_text = tokenizer.batch_decode(generated_tokens, skip_special_tokens=True)\n",
    "    \n",
    "    return ouput_text\n",
    "\n",
    "def english_to_korean(input_text):\n",
    "\n",
    "    tokenizer.src_lang = \"en_XX\"\n",
    "    \n",
    "    encoded_en = tokenizer(input_text, return_tensors=\"pt\")\n",
    "\n",
    "    generated_tokens = model.generate(\n",
    "        **encoded_en,\n",
    "        forced_bos_token_id=tokenizer.lang_code_to_id[\"ko_KR\"]\n",
    "    )\n",
    "    output_text = tokenizer.batch_decode(generated_tokens, skip_special_tokens=True)\n",
    "    \n",
    "    return output_text\n",
    "\n",
    "\n",
    "context = \"\"\"\n",
    "주문/결제 문의: 해외 구매 대행 상품에 대한 주문/결제 관련 문의는 고객 서비스 센터 1234-5678로 연락해 주세요.\n",
    "\n",
    "배송 문의: 결제 후 2-3 영업일 이내에 주문이 발송되며, 도착까지 약 3-5 영업일이 소요됩니다. 다만, 주말과 공휴일에는 배송이 지연될 수 있습니다. 주문은 당사 웹사이트에서 추적할 수 있습니다.\n",
    "\n",
    "상품 교환/반품 문의: 상품의 교환 및 반품은 수령 후 7일 이내에 가능합니다. 단, 상품이 손상되었거나 사용된 경우 교환 또는 반품이 불가능합니다. 교환 또는 반품은 당사 웹사이트에서 요청할 수 있으며, 왕복 국제 배송비(30,000원)가 부과됩니다.\n",
    "\n",
    "환불 문의: 환불은 수령 후 7일 이내에 가능합니다. 단, 상품이 손상되었거나 사용된 경우 환불이 불가능합니다. 환불 요청은 당사 웹사이트에서 할 수 있으며, 국제 배송비(30,000원)를 제외한 금액이 환불됩니다.\n",
    "\n",
    "상품 문의: 상품 관련 문의는 당사 웹사이트에서 확인하실 수 있습니다. 상품 페이지에서 사이즈, 색상, 재질 등의 상세 정보를 확인할 수 있습니다. 추가 질문이 있을 경우, 고객 서비스 센터 1234-5678로 문의해 주세요.\n",
    "\n",
    "기타 문의: 다른 문의사항이 있으시면 고객 서비스 센터 1234-5678로 연락해 주세요.\n",
    "\n",
    "\"\"\"\n",
    "\n",
    "\n",
    "# 질문 예시\n",
    "\"결제 후 몇일 후에 배송이 이루어지나요?\"\n",
    "\"배송은 몇일이 걸리나요?\"\n",
    "\"주문한 상품은 언제 도착할까요?\""
   ]
  }
 ],
 "metadata": {
  "kernelspec": {
   "display_name": "lecture_env",
   "language": "python",
   "name": "python3"
  },
  "language_info": {
   "codemirror_mode": {
    "name": "ipython",
    "version": 3
   },
   "file_extension": ".py",
   "mimetype": "text/x-python",
   "name": "python",
   "nbconvert_exporter": "python",
   "pygments_lexer": "ipython3",
   "version": "3.12.7"
  }
 },
 "nbformat": 4,
 "nbformat_minor": 2
}
